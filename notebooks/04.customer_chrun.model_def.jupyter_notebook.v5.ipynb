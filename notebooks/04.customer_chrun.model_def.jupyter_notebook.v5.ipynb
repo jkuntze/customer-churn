{
 "cells": [
  {
   "cell_type": "markdown",
   "metadata": {},
   "source": [
    "# Telco Customer Churn - Model Definition\n",
    "From the course instructions: model definition depends on your use case and data set how you want to proceed.\n",
    "\n",
    "Guidelines:\n",
    "- Choose, justify and apply a model performance indicator (e.g. F1 score, true positive rate, within cluster sum of squared error, …) to assess your model and justify the choice of an algorithm\n",
    "\n",
    "- Implement your algorithm in at least one deep learning and at least one non-deep learning algorithm, compare and document model performance\n",
    "\n",
    "- Apply at least one additional iteration in the process model involving at least the feature creation task and record impact on model performance (e.g. data normalizing, PCA, …)"
   ]
  },
  {
   "cell_type": "markdown",
   "metadata": {},
   "source": [
    "## Model performance indicator\n",
    "True positive rate (also called recall) and the F1 score will be used to evaluate model performance. Recall is relevant because it would be useful to flag customers showing higher risk of churn. The indicators are given by the following equations:\n",
    "\n",
    "$recall = \\frac{True Positives}{True Positives + False Negatives}$\n",
    "\n",
    "$precision = \\frac{True Positives}{True Positives + False Positives}$\n",
    "\n",
    "$F_1score = 2*\\frac{precision*recall}{precision+recall}$\n",
    "\n",
    "- Recall is the number of positive predictions divided by the number of positive class values in the test data. It is also called sensitivity, true positive rate, or probability of detection. It measures the proportion of actual positives that are correctly identified as such.\n",
    "- Precision is the number of positive predictions divided by the total number of positive class values predicted.\n",
    "- The F1 score conveys the balance between the precision and the recall."
   ]
  },
  {
   "cell_type": "markdown",
   "metadata": {},
   "source": [
    "## Import packages"
   ]
  },
  {
   "cell_type": "code",
   "execution_count": 1,
   "metadata": {},
   "outputs": [
    {
     "name": "stderr",
     "output_type": "stream",
     "text": [
      "Using TensorFlow backend.\n"
     ]
    }
   ],
   "source": [
    "import pandas as pd\n",
    "from sklearn.model_selection import train_test_split, GridSearchCV\n",
    "from sklearn.pipeline import Pipeline\n",
    "from sklearn.linear_model import LogisticRegression\n",
    "from sklearn.svm import SVC\n",
    "from sklearn.ensemble import GradientBoostingClassifier\n",
    "from sklearn.neighbors import KNeighborsClassifier\n",
    "from sklearn.metrics import confusion_matrix, classification_report, f1_score\n",
    "from keras.models import Sequential\n",
    "from keras.layers import Dense, Conv2D, Dropout, Flatten, MaxPooling2D"
   ]
  },
  {
   "cell_type": "markdown",
   "metadata": {},
   "source": [
    "## Load data"
   ]
  },
  {
   "cell_type": "code",
   "execution_count": 2,
   "metadata": {},
   "outputs": [],
   "source": [
    "df = pd.read_csv('../dataset/dataset_model.csv')"
   ]
  },
  {
   "cell_type": "code",
   "execution_count": 3,
   "metadata": {},
   "outputs": [
    {
     "data": {
      "text/html": [
       "<div>\n",
       "<style scoped>\n",
       "    .dataframe tbody tr th:only-of-type {\n",
       "        vertical-align: middle;\n",
       "    }\n",
       "\n",
       "    .dataframe tbody tr th {\n",
       "        vertical-align: top;\n",
       "    }\n",
       "\n",
       "    .dataframe thead th {\n",
       "        text-align: right;\n",
       "    }\n",
       "</style>\n",
       "<table border=\"1\" class=\"dataframe\">\n",
       "  <thead>\n",
       "    <tr style=\"text-align: right;\">\n",
       "      <th></th>\n",
       "      <th>gender</th>\n",
       "      <th>SeniorCitizen</th>\n",
       "      <th>Partner</th>\n",
       "      <th>Dependents</th>\n",
       "      <th>tenure</th>\n",
       "      <th>PhoneService</th>\n",
       "      <th>PaperlessBilling</th>\n",
       "      <th>MonthlyCharges</th>\n",
       "      <th>TotalCharges</th>\n",
       "      <th>Churn</th>\n",
       "      <th>...</th>\n",
       "      <th>Contract_Month-to-month</th>\n",
       "      <th>Contract_One year</th>\n",
       "      <th>Contract_Two year</th>\n",
       "      <th>PaymentMethod_Bank transfer (automatic)</th>\n",
       "      <th>PaymentMethod_Credit card (automatic)</th>\n",
       "      <th>PaymentMethod_Electronic check</th>\n",
       "      <th>PaymentMethod_Mailed check</th>\n",
       "      <th>tenure_scaled</th>\n",
       "      <th>MonthlyCharges_scaled</th>\n",
       "      <th>TotalCharges_scaled</th>\n",
       "    </tr>\n",
       "  </thead>\n",
       "  <tbody>\n",
       "    <tr>\n",
       "      <th>count</th>\n",
       "      <td>7032.000000</td>\n",
       "      <td>7032.000000</td>\n",
       "      <td>7032.000000</td>\n",
       "      <td>7032.000000</td>\n",
       "      <td>7032.000000</td>\n",
       "      <td>7032.000000</td>\n",
       "      <td>7032.000000</td>\n",
       "      <td>7032.000000</td>\n",
       "      <td>7032.000000</td>\n",
       "      <td>7032.000000</td>\n",
       "      <td>...</td>\n",
       "      <td>7032.000000</td>\n",
       "      <td>7032.000000</td>\n",
       "      <td>7032.000000</td>\n",
       "      <td>7032.000000</td>\n",
       "      <td>7032.000000</td>\n",
       "      <td>7032.000000</td>\n",
       "      <td>7032.000000</td>\n",
       "      <td>7.032000e+03</td>\n",
       "      <td>7.032000e+03</td>\n",
       "      <td>7.032000e+03</td>\n",
       "    </tr>\n",
       "    <tr>\n",
       "      <th>mean</th>\n",
       "      <td>0.504693</td>\n",
       "      <td>0.162400</td>\n",
       "      <td>0.482509</td>\n",
       "      <td>0.298493</td>\n",
       "      <td>32.421786</td>\n",
       "      <td>0.903299</td>\n",
       "      <td>0.592719</td>\n",
       "      <td>64.798208</td>\n",
       "      <td>2283.300441</td>\n",
       "      <td>0.265785</td>\n",
       "      <td>...</td>\n",
       "      <td>0.551052</td>\n",
       "      <td>0.209329</td>\n",
       "      <td>0.239619</td>\n",
       "      <td>0.219283</td>\n",
       "      <td>0.216297</td>\n",
       "      <td>0.336320</td>\n",
       "      <td>0.228100</td>\n",
       "      <td>-1.388410e-16</td>\n",
       "      <td>8.828736e-17</td>\n",
       "      <td>-1.099487e-16</td>\n",
       "    </tr>\n",
       "    <tr>\n",
       "      <th>std</th>\n",
       "      <td>0.500014</td>\n",
       "      <td>0.368844</td>\n",
       "      <td>0.499729</td>\n",
       "      <td>0.457629</td>\n",
       "      <td>24.545260</td>\n",
       "      <td>0.295571</td>\n",
       "      <td>0.491363</td>\n",
       "      <td>30.085974</td>\n",
       "      <td>2266.771362</td>\n",
       "      <td>0.441782</td>\n",
       "      <td>...</td>\n",
       "      <td>0.497422</td>\n",
       "      <td>0.406858</td>\n",
       "      <td>0.426881</td>\n",
       "      <td>0.413790</td>\n",
       "      <td>0.411748</td>\n",
       "      <td>0.472483</td>\n",
       "      <td>0.419637</td>\n",
       "      <td>1.000071e+00</td>\n",
       "      <td>1.000071e+00</td>\n",
       "      <td>1.000071e+00</td>\n",
       "    </tr>\n",
       "    <tr>\n",
       "      <th>min</th>\n",
       "      <td>0.000000</td>\n",
       "      <td>0.000000</td>\n",
       "      <td>0.000000</td>\n",
       "      <td>0.000000</td>\n",
       "      <td>1.000000</td>\n",
       "      <td>0.000000</td>\n",
       "      <td>0.000000</td>\n",
       "      <td>18.250000</td>\n",
       "      <td>18.800000</td>\n",
       "      <td>0.000000</td>\n",
       "      <td>...</td>\n",
       "      <td>0.000000</td>\n",
       "      <td>0.000000</td>\n",
       "      <td>0.000000</td>\n",
       "      <td>0.000000</td>\n",
       "      <td>0.000000</td>\n",
       "      <td>0.000000</td>\n",
       "      <td>0.000000</td>\n",
       "      <td>-1.280248e+00</td>\n",
       "      <td>-1.547283e+00</td>\n",
       "      <td>-9.990692e-01</td>\n",
       "    </tr>\n",
       "    <tr>\n",
       "      <th>25%</th>\n",
       "      <td>0.000000</td>\n",
       "      <td>0.000000</td>\n",
       "      <td>0.000000</td>\n",
       "      <td>0.000000</td>\n",
       "      <td>9.000000</td>\n",
       "      <td>1.000000</td>\n",
       "      <td>0.000000</td>\n",
       "      <td>35.587500</td>\n",
       "      <td>401.450000</td>\n",
       "      <td>0.000000</td>\n",
       "      <td>...</td>\n",
       "      <td>0.000000</td>\n",
       "      <td>0.000000</td>\n",
       "      <td>0.000000</td>\n",
       "      <td>0.000000</td>\n",
       "      <td>0.000000</td>\n",
       "      <td>0.000000</td>\n",
       "      <td>0.000000</td>\n",
       "      <td>-9.542963e-01</td>\n",
       "      <td>-9.709769e-01</td>\n",
       "      <td>-8.302488e-01</td>\n",
       "    </tr>\n",
       "    <tr>\n",
       "      <th>50%</th>\n",
       "      <td>1.000000</td>\n",
       "      <td>0.000000</td>\n",
       "      <td>0.000000</td>\n",
       "      <td>0.000000</td>\n",
       "      <td>29.000000</td>\n",
       "      <td>1.000000</td>\n",
       "      <td>1.000000</td>\n",
       "      <td>70.350000</td>\n",
       "      <td>1397.475000</td>\n",
       "      <td>0.000000</td>\n",
       "      <td>...</td>\n",
       "      <td>1.000000</td>\n",
       "      <td>0.000000</td>\n",
       "      <td>0.000000</td>\n",
       "      <td>0.000000</td>\n",
       "      <td>0.000000</td>\n",
       "      <td>0.000000</td>\n",
       "      <td>0.000000</td>\n",
       "      <td>-1.394171e-01</td>\n",
       "      <td>1.845440e-01</td>\n",
       "      <td>-3.908151e-01</td>\n",
       "    </tr>\n",
       "    <tr>\n",
       "      <th>75%</th>\n",
       "      <td>1.000000</td>\n",
       "      <td>0.000000</td>\n",
       "      <td>1.000000</td>\n",
       "      <td>1.000000</td>\n",
       "      <td>55.000000</td>\n",
       "      <td>1.000000</td>\n",
       "      <td>1.000000</td>\n",
       "      <td>89.862500</td>\n",
       "      <td>3794.737500</td>\n",
       "      <td>1.000000</td>\n",
       "      <td>...</td>\n",
       "      <td>1.000000</td>\n",
       "      <td>0.000000</td>\n",
       "      <td>0.000000</td>\n",
       "      <td>0.000000</td>\n",
       "      <td>0.000000</td>\n",
       "      <td>1.000000</td>\n",
       "      <td>0.000000</td>\n",
       "      <td>9.199259e-01</td>\n",
       "      <td>8.331482e-01</td>\n",
       "      <td>6.668271e-01</td>\n",
       "    </tr>\n",
       "    <tr>\n",
       "      <th>max</th>\n",
       "      <td>1.000000</td>\n",
       "      <td>1.000000</td>\n",
       "      <td>1.000000</td>\n",
       "      <td>1.000000</td>\n",
       "      <td>72.000000</td>\n",
       "      <td>1.000000</td>\n",
       "      <td>1.000000</td>\n",
       "      <td>118.750000</td>\n",
       "      <td>8684.800000</td>\n",
       "      <td>1.000000</td>\n",
       "      <td>...</td>\n",
       "      <td>1.000000</td>\n",
       "      <td>1.000000</td>\n",
       "      <td>1.000000</td>\n",
       "      <td>1.000000</td>\n",
       "      <td>1.000000</td>\n",
       "      <td>1.000000</td>\n",
       "      <td>1.000000</td>\n",
       "      <td>1.612573e+00</td>\n",
       "      <td>1.793381e+00</td>\n",
       "      <td>2.824261e+00</td>\n",
       "    </tr>\n",
       "  </tbody>\n",
       "</table>\n",
       "<p>8 rows × 44 columns</p>\n",
       "</div>"
      ],
      "text/plain": [
       "            gender  SeniorCitizen      Partner   Dependents       tenure  \\\n",
       "count  7032.000000    7032.000000  7032.000000  7032.000000  7032.000000   \n",
       "mean      0.504693       0.162400     0.482509     0.298493    32.421786   \n",
       "std       0.500014       0.368844     0.499729     0.457629    24.545260   \n",
       "min       0.000000       0.000000     0.000000     0.000000     1.000000   \n",
       "25%       0.000000       0.000000     0.000000     0.000000     9.000000   \n",
       "50%       1.000000       0.000000     0.000000     0.000000    29.000000   \n",
       "75%       1.000000       0.000000     1.000000     1.000000    55.000000   \n",
       "max       1.000000       1.000000     1.000000     1.000000    72.000000   \n",
       "\n",
       "       PhoneService  PaperlessBilling  MonthlyCharges  TotalCharges  \\\n",
       "count   7032.000000       7032.000000     7032.000000   7032.000000   \n",
       "mean       0.903299          0.592719       64.798208   2283.300441   \n",
       "std        0.295571          0.491363       30.085974   2266.771362   \n",
       "min        0.000000          0.000000       18.250000     18.800000   \n",
       "25%        1.000000          0.000000       35.587500    401.450000   \n",
       "50%        1.000000          1.000000       70.350000   1397.475000   \n",
       "75%        1.000000          1.000000       89.862500   3794.737500   \n",
       "max        1.000000          1.000000      118.750000   8684.800000   \n",
       "\n",
       "             Churn  ...  Contract_Month-to-month  Contract_One year  \\\n",
       "count  7032.000000  ...              7032.000000        7032.000000   \n",
       "mean      0.265785  ...                 0.551052           0.209329   \n",
       "std       0.441782  ...                 0.497422           0.406858   \n",
       "min       0.000000  ...                 0.000000           0.000000   \n",
       "25%       0.000000  ...                 0.000000           0.000000   \n",
       "50%       0.000000  ...                 1.000000           0.000000   \n",
       "75%       1.000000  ...                 1.000000           0.000000   \n",
       "max       1.000000  ...                 1.000000           1.000000   \n",
       "\n",
       "       Contract_Two year  PaymentMethod_Bank transfer (automatic)  \\\n",
       "count        7032.000000                              7032.000000   \n",
       "mean            0.239619                                 0.219283   \n",
       "std             0.426881                                 0.413790   \n",
       "min             0.000000                                 0.000000   \n",
       "25%             0.000000                                 0.000000   \n",
       "50%             0.000000                                 0.000000   \n",
       "75%             0.000000                                 0.000000   \n",
       "max             1.000000                                 1.000000   \n",
       "\n",
       "       PaymentMethod_Credit card (automatic)  PaymentMethod_Electronic check  \\\n",
       "count                            7032.000000                     7032.000000   \n",
       "mean                                0.216297                        0.336320   \n",
       "std                                 0.411748                        0.472483   \n",
       "min                                 0.000000                        0.000000   \n",
       "25%                                 0.000000                        0.000000   \n",
       "50%                                 0.000000                        0.000000   \n",
       "75%                                 0.000000                        1.000000   \n",
       "max                                 1.000000                        1.000000   \n",
       "\n",
       "       PaymentMethod_Mailed check  tenure_scaled  MonthlyCharges_scaled  \\\n",
       "count                 7032.000000   7.032000e+03           7.032000e+03   \n",
       "mean                     0.228100  -1.388410e-16           8.828736e-17   \n",
       "std                      0.419637   1.000071e+00           1.000071e+00   \n",
       "min                      0.000000  -1.280248e+00          -1.547283e+00   \n",
       "25%                      0.000000  -9.542963e-01          -9.709769e-01   \n",
       "50%                      0.000000  -1.394171e-01           1.845440e-01   \n",
       "75%                      0.000000   9.199259e-01           8.331482e-01   \n",
       "max                      1.000000   1.612573e+00           1.793381e+00   \n",
       "\n",
       "       TotalCharges_scaled  \n",
       "count         7.032000e+03  \n",
       "mean         -1.099487e-16  \n",
       "std           1.000071e+00  \n",
       "min          -9.990692e-01  \n",
       "25%          -8.302488e-01  \n",
       "50%          -3.908151e-01  \n",
       "75%           6.668271e-01  \n",
       "max           2.824261e+00  \n",
       "\n",
       "[8 rows x 44 columns]"
      ]
     },
     "execution_count": 3,
     "metadata": {},
     "output_type": "execute_result"
    }
   ],
   "source": [
    "df.describe()"
   ]
  },
  {
   "cell_type": "markdown",
   "metadata": {},
   "source": [
    "## Data splitting - training, validation, testing\n",
    "Data will be split into three parts:\n",
    "- training dataset to obtain model parameters.\n",
    "- validation dataset to tune hyperparameters and select model.\n",
    "- testing dataset to evaluate how the model performs on unseen data. It will be used for model selection, but no model tuning."
   ]
  },
  {
   "cell_type": "code",
   "execution_count": 4,
   "metadata": {},
   "outputs": [],
   "source": [
    "X = df.drop(['Churn'],axis=1) \n",
    "y = df['Churn']\n",
    "X_train, X_test, y_train, y_test = train_test_split(X, y, test_size=0.15, random_state=1234, stratify=y)\n",
    "X_train, X_validate, y_train, y_validate = train_test_split(X_train, y_train, test_size=0.25, \n",
    "                                                            random_state=4321, stratify=y_train)"
   ]
  },
  {
   "cell_type": "markdown",
   "metadata": {},
   "source": [
    "## Modelling"
   ]
  },
  {
   "cell_type": "markdown",
   "metadata": {},
   "source": [
    "### Raw numerical features\n",
    "At a first benchmark models and performance evaluation will be performed on the dataset before scaling/normalizing/centering the numerical features."
   ]
  },
  {
   "cell_type": "code",
   "execution_count": 5,
   "metadata": {},
   "outputs": [],
   "source": [
    "# scaled numerical features are removed from the training and validation datasets\n",
    "X_train_raw = X_train.drop(['tenure_scaled','MonthlyCharges_scaled','TotalCharges_scaled'],axis=1) \n",
    "X_validate_raw = X_validate.drop(['tenure_scaled','MonthlyCharges_scaled','TotalCharges_scaled'],axis=1) "
   ]
  },
  {
   "cell_type": "markdown",
   "metadata": {},
   "source": [
    "#### Logistic regression\n",
    "The regression coefficients didn't converge after 1000 interactions. It produced a recall of 0.55 and f1-score of 0.57 for positive churn observations, and an overall weight f1-score of 0.77. "
   ]
  },
  {
   "cell_type": "code",
   "execution_count": 6,
   "metadata": {},
   "outputs": [
    {
     "name": "stdout",
     "output_type": "stream",
     "text": [
      "[[942 156]\n",
      " [179 218]]\n",
      "              precision    recall  f1-score   support\n",
      "\n",
      "           0       0.84      0.86      0.85      1098\n",
      "           1       0.58      0.55      0.57       397\n",
      "\n",
      "    accuracy                           0.78      1495\n",
      "   macro avg       0.71      0.70      0.71      1495\n",
      "weighted avg       0.77      0.78      0.77      1495\n",
      "\n"
     ]
    },
    {
     "name": "stderr",
     "output_type": "stream",
     "text": [
      "/home/jackson/anaconda3/lib/python3.7/site-packages/sklearn/linear_model/_sag.py:330: ConvergenceWarning: The max_iter was reached which means the coef_ did not converge\n",
      "  \"the coef_ did not converge\", ConvergenceWarning)\n"
     ]
    }
   ],
   "source": [
    "fit_log_reg = LogisticRegression(solver='saga', max_iter = 1000)\n",
    "fit_log_reg.fit(X_train_raw, y_train)\n",
    "y_pred = fit_log_reg.predict(X_validate_raw)\n",
    "\n",
    "print(confusion_matrix(y_validate, y_pred))\n",
    "print(classification_report(y_validate, y_pred))"
   ]
  },
  {
   "cell_type": "markdown",
   "metadata": {},
   "source": [
    "#### Neural networks\n",
    "The neural network produced a recall of 0.37 and f1-score of 0.49 for positive churn observations, and an overall weight f1-score of 0.77. Please keep in mind that results vary significantly by fitting the model again, due to random initialization of the weights in neural networks."
   ]
  },
  {
   "cell_type": "code",
   "execution_count": 7,
   "metadata": {
    "scrolled": true
   },
   "outputs": [
    {
     "name": "stdout",
     "output_type": "stream",
     "text": [
      "Epoch 1/50\n",
      "4482/4482 [==============================] - 0s 52us/step - loss: 1.0928 - accuracy: 0.7100\n",
      "Epoch 2/50\n",
      "4482/4482 [==============================] - 0s 31us/step - loss: 0.4928 - accuracy: 0.7793\n",
      "Epoch 3/50\n",
      "4482/4482 [==============================] - 0s 29us/step - loss: 0.6308 - accuracy: 0.7593\n",
      "Epoch 4/50\n",
      "4482/4482 [==============================] - 0s 31us/step - loss: 0.6918 - accuracy: 0.7702\n",
      "Epoch 5/50\n",
      "4482/4482 [==============================] - 0s 30us/step - loss: 0.6853 - accuracy: 0.7686\n",
      "Epoch 6/50\n",
      "4482/4482 [==============================] - 0s 32us/step - loss: 0.5119 - accuracy: 0.7816\n",
      "Epoch 7/50\n",
      "4482/4482 [==============================] - 0s 57us/step - loss: 0.6664 - accuracy: 0.7642\n",
      "Epoch 8/50\n",
      "4482/4482 [==============================] - 0s 42us/step - loss: 1.1139 - accuracy: 0.7588\n",
      "Epoch 9/50\n",
      "4482/4482 [==============================] - 0s 35us/step - loss: 0.5343 - accuracy: 0.7829\n",
      "Epoch 10/50\n",
      "4482/4482 [==============================] - 0s 33us/step - loss: 0.6038 - accuracy: 0.7711\n",
      "Epoch 11/50\n",
      "4482/4482 [==============================] - 0s 31us/step - loss: 0.7700 - accuracy: 0.7584\n",
      "Epoch 12/50\n",
      "4482/4482 [==============================] - 0s 28us/step - loss: 0.7805 - accuracy: 0.7686\n",
      "Epoch 13/50\n",
      "4482/4482 [==============================] - 0s 28us/step - loss: 0.6612 - accuracy: 0.7802\n",
      "Epoch 14/50\n",
      "4482/4482 [==============================] - 0s 28us/step - loss: 0.5313 - accuracy: 0.7834\n",
      "Epoch 15/50\n",
      "4482/4482 [==============================] - 0s 28us/step - loss: 0.7544 - accuracy: 0.7682\n",
      "Epoch 16/50\n",
      "4482/4482 [==============================] - 0s 28us/step - loss: 0.5846 - accuracy: 0.7829\n",
      "Epoch 17/50\n",
      "4482/4482 [==============================] - 0s 30us/step - loss: 0.4945 - accuracy: 0.7921\n",
      "Epoch 18/50\n",
      "4482/4482 [==============================] - 0s 29us/step - loss: 0.5461 - accuracy: 0.7825\n",
      "Epoch 19/50\n",
      "4482/4482 [==============================] - 0s 53us/step - loss: 0.5113 - accuracy: 0.7854\n",
      "Epoch 20/50\n",
      "4482/4482 [==============================] - 0s 43us/step - loss: 0.5686 - accuracy: 0.7805\n",
      "Epoch 21/50\n",
      "4482/4482 [==============================] - 0s 35us/step - loss: 0.5507 - accuracy: 0.7762\n",
      "Epoch 22/50\n",
      "4482/4482 [==============================] - 0s 31us/step - loss: 0.5919 - accuracy: 0.7760\n",
      "Epoch 23/50\n",
      "4482/4482 [==============================] - 0s 28us/step - loss: 0.4998 - accuracy: 0.7858\n",
      "Epoch 24/50\n",
      "4482/4482 [==============================] - 0s 29us/step - loss: 0.8796 - accuracy: 0.7624\n",
      "Epoch 25/50\n",
      "4482/4482 [==============================] - 0s 29us/step - loss: 0.5066 - accuracy: 0.7869\n",
      "Epoch 26/50\n",
      "4482/4482 [==============================] - 0s 28us/step - loss: 0.5628 - accuracy: 0.7825\n",
      "Epoch 27/50\n",
      "4482/4482 [==============================] - 0s 28us/step - loss: 0.5685 - accuracy: 0.7811\n",
      "Epoch 28/50\n",
      "4482/4482 [==============================] - 0s 27us/step - loss: 0.5632 - accuracy: 0.7822\n",
      "Epoch 29/50\n",
      "4482/4482 [==============================] - 0s 28us/step - loss: 0.5805 - accuracy: 0.7731\n",
      "Epoch 30/50\n",
      "4482/4482 [==============================] - 0s 29us/step - loss: 0.5361 - accuracy: 0.7796\n",
      "Epoch 31/50\n",
      "4482/4482 [==============================] - 0s 28us/step - loss: 0.7501 - accuracy: 0.7693\n",
      "Epoch 32/50\n",
      "4482/4482 [==============================] - 0s 30us/step - loss: 0.6352 - accuracy: 0.7753\n",
      "Epoch 33/50\n",
      "4482/4482 [==============================] - 0s 30us/step - loss: 0.4922 - accuracy: 0.7943\n",
      "Epoch 34/50\n",
      "4482/4482 [==============================] - 0s 29us/step - loss: 0.6957 - accuracy: 0.7751\n",
      "Epoch 35/50\n",
      "4482/4482 [==============================] - 0s 29us/step - loss: 0.6623 - accuracy: 0.7733\n",
      "Epoch 36/50\n",
      "4482/4482 [==============================] - 0s 28us/step - loss: 0.5694 - accuracy: 0.7796\n",
      "Epoch 37/50\n",
      "4482/4482 [==============================] - 0s 28us/step - loss: 0.5136 - accuracy: 0.7923\n",
      "Epoch 38/50\n",
      "4482/4482 [==============================] - 0s 28us/step - loss: 0.5000 - accuracy: 0.7907\n",
      "Epoch 39/50\n",
      "4482/4482 [==============================] - 0s 29us/step - loss: 0.5715 - accuracy: 0.7771\n",
      "Epoch 40/50\n",
      "4482/4482 [==============================] - 0s 31us/step - loss: 0.5089 - accuracy: 0.7820\n",
      "Epoch 41/50\n",
      "4482/4482 [==============================] - 0s 63us/step - loss: 0.5501 - accuracy: 0.7773\n",
      "Epoch 42/50\n",
      "4482/4482 [==============================] - 0s 43us/step - loss: 0.5510 - accuracy: 0.7820\n",
      "Epoch 43/50\n",
      "4482/4482 [==============================] - 0s 29us/step - loss: 0.7129 - accuracy: 0.7742\n",
      "Epoch 44/50\n",
      "4482/4482 [==============================] - 0s 27us/step - loss: 0.5991 - accuracy: 0.7820\n",
      "Epoch 45/50\n",
      "4482/4482 [==============================] - 0s 27us/step - loss: 0.5184 - accuracy: 0.7842\n",
      "Epoch 46/50\n",
      "4482/4482 [==============================] - 0s 29us/step - loss: 0.5296 - accuracy: 0.7800\n",
      "Epoch 47/50\n",
      "4482/4482 [==============================] - 0s 28us/step - loss: 0.5425 - accuracy: 0.7834\n",
      "Epoch 48/50\n",
      "4482/4482 [==============================] - 0s 30us/step - loss: 0.5071 - accuracy: 0.7876\n",
      "Epoch 49/50\n",
      "4482/4482 [==============================] - 0s 65us/step - loss: 0.6623 - accuracy: 0.7735\n",
      "Epoch 50/50\n",
      "4482/4482 [==============================] - 0s 38us/step - loss: 0.5034 - accuracy: 0.7885\n"
     ]
    },
    {
     "data": {
      "text/plain": [
       "<keras.callbacks.callbacks.History at 0x7fd445168650>"
      ]
     },
     "execution_count": 7,
     "metadata": {},
     "output_type": "execute_result"
    }
   ],
   "source": [
    "fit_nn = Sequential()\n",
    "fit_nn.add(Dense(X_train_raw.shape[1], input_dim = X_train_raw.shape[1], activation='relu'))\n",
    "#fit_nn.add(Dense(50, activation='relu'))\n",
    "fit_nn.add(Dense(1, activation='sigmoid'))\n",
    "\n",
    "fit_nn.compile(optimizer ='adam',\n",
    "              loss='binary_crossentropy',\n",
    "              metrics=['accuracy'])\n",
    "fit_nn.fit(x=X_train_raw, y=y_train, epochs=50)"
   ]
  },
  {
   "cell_type": "code",
   "execution_count": 8,
   "metadata": {
    "scrolled": true
   },
   "outputs": [
    {
     "name": "stdout",
     "output_type": "stream",
     "text": [
      "[[1039   59]\n",
      " [ 249  148]]\n",
      "              precision    recall  f1-score   support\n",
      "\n",
      "           0       0.81      0.95      0.87      1098\n",
      "           1       0.71      0.37      0.49       397\n",
      "\n",
      "    accuracy                           0.79      1495\n",
      "   macro avg       0.76      0.66      0.68      1495\n",
      "weighted avg       0.78      0.79      0.77      1495\n",
      "\n"
     ]
    }
   ],
   "source": [
    "y_pred = fit_nn.predict_classes(X_validate_raw)\n",
    "print(confusion_matrix(y_validate, y_pred))\n",
    "print(classification_report(y_validate, y_pred))"
   ]
  },
  {
   "cell_type": "markdown",
   "metadata": {},
   "source": [
    "### Scaled numerical features\n",
    "Based on the results of the previous section, the numerical features will be scaled/normalized/centered moving forward, which should have a positive impact on model performance."
   ]
  },
  {
   "cell_type": "code",
   "execution_count": 9,
   "metadata": {},
   "outputs": [],
   "source": [
    "# raw numerical features are removed from the training, validation and test datasets\n",
    "X_train = X_train.drop(['tenure','MonthlyCharges','TotalCharges'],axis=1) \n",
    "X_validate = X_validate.drop(['tenure','MonthlyCharges','TotalCharges'],axis=1) \n",
    "X_test = X_test.drop(['tenure','MonthlyCharges','TotalCharges'],axis=1) "
   ]
  },
  {
   "cell_type": "markdown",
   "metadata": {},
   "source": [
    "#### Logistic regression\n",
    "A grid search will be performed to tune the 'C' and 'class_weight' parameters. Recall will be used as scoring method."
   ]
  },
  {
   "cell_type": "code",
   "execution_count": 10,
   "metadata": {},
   "outputs": [
    {
     "name": "stdout",
     "output_type": "stream",
     "text": [
      "{'C': 0.001, 'class_weight': 'balanced'}\n"
     ]
    }
   ],
   "source": [
    "fit_log_reg = LogisticRegression(random_state=1234, solver='saga', max_iter = 500)\n",
    "\n",
    "parameters = {'C':[0.001, 0.1, 1, 100, 10e3], 'class_weight': [None,'balanced']}\n",
    "grid = GridSearchCV(fit_log_reg, param_grid=parameters, scoring = 'recall', cv=5)\n",
    "\n",
    "grid.fit(X_train, y_train)\n",
    "print(grid.best_params_)"
   ]
  },
  {
   "cell_type": "code",
   "execution_count": 11,
   "metadata": {},
   "outputs": [
    {
     "name": "stdout",
     "output_type": "stream",
     "text": [
      "[[784 314]\n",
      " [ 74 323]]\n",
      "              precision    recall  f1-score   support\n",
      "\n",
      "           0       0.91      0.71      0.80      1098\n",
      "           1       0.51      0.81      0.62       397\n",
      "\n",
      "    accuracy                           0.74      1495\n",
      "   macro avg       0.71      0.76      0.71      1495\n",
      "weighted avg       0.81      0.74      0.75      1495\n",
      "\n"
     ]
    }
   ],
   "source": [
    "y_pred = grid.predict(X_validate)\n",
    "\n",
    "print(confusion_matrix(y_validate, y_pred))\n",
    "print(classification_report(y_validate, y_pred))"
   ]
  },
  {
   "cell_type": "markdown",
   "metadata": {},
   "source": [
    "#### Neural networks\n",
    "The neural network produced a recall of 0.54 and f1-score of 0.59 for positive churn observations, and an overall weight f1-score of 0.80. Please keep in mind that results will vary by fitting the model again, due to random initialization of the weights in neural networks."
   ]
  },
  {
   "cell_type": "code",
   "execution_count": 13,
   "metadata": {
    "scrolled": true
   },
   "outputs": [
    {
     "name": "stdout",
     "output_type": "stream",
     "text": [
      "Epoch 1/50\n",
      "4482/4482 [==============================] - 0s 49us/step - loss: 0.4721 - accuracy: 0.7731\n",
      "Epoch 2/50\n",
      "4482/4482 [==============================] - 0s 31us/step - loss: 0.4244 - accuracy: 0.8008\n",
      "Epoch 3/50\n",
      "4482/4482 [==============================] - 0s 30us/step - loss: 0.4187 - accuracy: 0.8041\n",
      "Epoch 4/50\n",
      "4482/4482 [==============================] - 0s 31us/step - loss: 0.4153 - accuracy: 0.8068\n",
      "Epoch 5/50\n",
      "4482/4482 [==============================] - 0s 31us/step - loss: 0.4124 - accuracy: 0.8077\n",
      "Epoch 6/50\n",
      "4482/4482 [==============================] - 0s 33us/step - loss: 0.4113 - accuracy: 0.8070\n",
      "Epoch 7/50\n",
      "4482/4482 [==============================] - 0s 30us/step - loss: 0.4092 - accuracy: 0.8104\n",
      "Epoch 8/50\n",
      "4482/4482 [==============================] - 0s 30us/step - loss: 0.4082 - accuracy: 0.8097\n",
      "Epoch 9/50\n",
      "4482/4482 [==============================] - 0s 32us/step - loss: 0.4067 - accuracy: 0.8110\n",
      "Epoch 10/50\n",
      "4482/4482 [==============================] - 0s 32us/step - loss: 0.4062 - accuracy: 0.8130\n",
      "Epoch 11/50\n",
      "4482/4482 [==============================] - 0s 30us/step - loss: 0.4053 - accuracy: 0.8121\n",
      "Epoch 12/50\n",
      "4482/4482 [==============================] - 0s 30us/step - loss: 0.4049 - accuracy: 0.8108\n",
      "Epoch 13/50\n",
      "4482/4482 [==============================] - 0s 28us/step - loss: 0.4034 - accuracy: 0.8128\n",
      "Epoch 14/50\n",
      "4482/4482 [==============================] - 0s 28us/step - loss: 0.4022 - accuracy: 0.8119\n",
      "Epoch 15/50\n",
      "4482/4482 [==============================] - 0s 29us/step - loss: 0.4009 - accuracy: 0.8166\n",
      "Epoch 16/50\n",
      "4482/4482 [==============================] - 0s 31us/step - loss: 0.4006 - accuracy: 0.8139\n",
      "Epoch 17/50\n",
      "4482/4482 [==============================] - 0s 30us/step - loss: 0.4004 - accuracy: 0.8137\n",
      "Epoch 18/50\n",
      "4482/4482 [==============================] - 0s 30us/step - loss: 0.3984 - accuracy: 0.8173\n",
      "Epoch 19/50\n",
      "4482/4482 [==============================] - 0s 32us/step - loss: 0.3975 - accuracy: 0.8173\n",
      "Epoch 20/50\n",
      "4482/4482 [==============================] - 0s 29us/step - loss: 0.3986 - accuracy: 0.8150\n",
      "Epoch 21/50\n",
      "4482/4482 [==============================] - 0s 33us/step - loss: 0.3967 - accuracy: 0.8148\n",
      "Epoch 22/50\n",
      "4482/4482 [==============================] - 0s 55us/step - loss: 0.3960 - accuracy: 0.8186\n",
      "Epoch 23/50\n",
      "4482/4482 [==============================] - 0s 59us/step - loss: 0.3951 - accuracy: 0.8148\n",
      "Epoch 24/50\n",
      "4482/4482 [==============================] - 0s 56us/step - loss: 0.3941 - accuracy: 0.8168\n",
      "Epoch 25/50\n",
      "4482/4482 [==============================] - 0s 59us/step - loss: 0.3922 - accuracy: 0.8162\n",
      "Epoch 26/50\n",
      "4482/4482 [==============================] - 0s 52us/step - loss: 0.3925 - accuracy: 0.8141\n",
      "Epoch 27/50\n",
      "4482/4482 [==============================] - 0s 52us/step - loss: 0.3919 - accuracy: 0.8177\n",
      "Epoch 28/50\n",
      "4482/4482 [==============================] - 0s 31us/step - loss: 0.3913 - accuracy: 0.8164\n",
      "Epoch 29/50\n",
      "4482/4482 [==============================] - 0s 29us/step - loss: 0.3906 - accuracy: 0.8177\n",
      "Epoch 30/50\n",
      "4482/4482 [==============================] - 0s 30us/step - loss: 0.3897 - accuracy: 0.8213\n",
      "Epoch 31/50\n",
      "4482/4482 [==============================] - 0s 29us/step - loss: 0.3883 - accuracy: 0.8191\n",
      "Epoch 32/50\n",
      "4482/4482 [==============================] - 0s 29us/step - loss: 0.3882 - accuracy: 0.8186\n",
      "Epoch 33/50\n",
      "4482/4482 [==============================] - 0s 28us/step - loss: 0.3869 - accuracy: 0.8184\n",
      "Epoch 34/50\n",
      "4482/4482 [==============================] - 0s 29us/step - loss: 0.3870 - accuracy: 0.8204\n",
      "Epoch 35/50\n",
      "4482/4482 [==============================] - 0s 30us/step - loss: 0.3863 - accuracy: 0.8197\n",
      "Epoch 36/50\n",
      "4482/4482 [==============================] - 0s 28us/step - loss: 0.3840 - accuracy: 0.8211\n",
      "Epoch 37/50\n",
      "4482/4482 [==============================] - 0s 29us/step - loss: 0.3844 - accuracy: 0.8211\n",
      "Epoch 38/50\n",
      "4482/4482 [==============================] - 0s 28us/step - loss: 0.3836 - accuracy: 0.8197\n",
      "Epoch 39/50\n",
      "4482/4482 [==============================] - 0s 28us/step - loss: 0.3850 - accuracy: 0.8157\n",
      "Epoch 40/50\n",
      "4482/4482 [==============================] - 0s 28us/step - loss: 0.3826 - accuracy: 0.8206\n",
      "Epoch 41/50\n",
      "4482/4482 [==============================] - 0s 30us/step - loss: 0.3811 - accuracy: 0.8242\n",
      "Epoch 42/50\n",
      "4482/4482 [==============================] - 0s 28us/step - loss: 0.3812 - accuracy: 0.8193\n",
      "Epoch 43/50\n",
      "4482/4482 [==============================] - 0s 29us/step - loss: 0.3796 - accuracy: 0.8228\n",
      "Epoch 44/50\n",
      "4482/4482 [==============================] - 0s 28us/step - loss: 0.3805 - accuracy: 0.8237\n",
      "Epoch 45/50\n",
      "4482/4482 [==============================] - 0s 29us/step - loss: 0.3790 - accuracy: 0.8206\n",
      "Epoch 46/50\n",
      "4482/4482 [==============================] - 0s 28us/step - loss: 0.3785 - accuracy: 0.8246\n",
      "Epoch 47/50\n",
      "4482/4482 [==============================] - 0s 32us/step - loss: 0.3784 - accuracy: 0.8228\n",
      "Epoch 48/50\n",
      "4482/4482 [==============================] - 0s 66us/step - loss: 0.3774 - accuracy: 0.8251\n",
      "Epoch 49/50\n",
      "4482/4482 [==============================] - 0s 45us/step - loss: 0.3768 - accuracy: 0.8237\n",
      "Epoch 50/50\n",
      "4482/4482 [==============================] - 0s 30us/step - loss: 0.3771 - accuracy: 0.8206\n"
     ]
    },
    {
     "data": {
      "text/plain": [
       "<keras.callbacks.callbacks.History at 0x7fd43c7a49d0>"
      ]
     },
     "execution_count": 13,
     "metadata": {},
     "output_type": "execute_result"
    }
   ],
   "source": [
    "fit_nn = Sequential()\n",
    "fit_nn.add(Dense(X_train.shape[1], input_dim = X_train.shape[1], activation='relu'))\n",
    "fit_nn.add(Dense(1, activation='sigmoid'))\n",
    "\n",
    "fit_nn.compile(optimizer ='adam',\n",
    "              loss='binary_crossentropy',\n",
    "              metrics=['accuracy'])\n",
    "fit_nn.fit(x=X_train, y=y_train, epochs=50)"
   ]
  },
  {
   "cell_type": "code",
   "execution_count": 14,
   "metadata": {
    "scrolled": false
   },
   "outputs": [
    {
     "name": "stdout",
     "output_type": "stream",
     "text": [
      "[[989 109]\n",
      " [184 213]]\n",
      "              precision    recall  f1-score   support\n",
      "\n",
      "           0       0.84      0.90      0.87      1098\n",
      "           1       0.66      0.54      0.59       397\n",
      "\n",
      "    accuracy                           0.80      1495\n",
      "   macro avg       0.75      0.72      0.73      1495\n",
      "weighted avg       0.79      0.80      0.80      1495\n",
      "\n"
     ]
    }
   ],
   "source": [
    "y_pred = fit_nn.predict_classes(X_validate)\n",
    "print(confusion_matrix(y_validate, y_pred))\n",
    "print(classification_report(y_validate, y_pred))"
   ]
  },
  {
   "cell_type": "markdown",
   "metadata": {},
   "source": [
    "#### Neural networks - deep learning\n",
    "Additional hidden layers were introduced in the model. Dropout was introduced to deal with overfitting the training data. Performance didn't improve significantly compared to the shallow neural network, likely due to the limited amount of data."
   ]
  },
  {
   "cell_type": "code",
   "execution_count": 17,
   "metadata": {
    "scrolled": true
   },
   "outputs": [
    {
     "name": "stdout",
     "output_type": "stream",
     "text": [
      "Epoch 1/30\n",
      "4482/4482 [==============================] - 0s 98us/step - loss: 0.5116 - accuracy: 0.7419\n",
      "Epoch 2/30\n",
      "4482/4482 [==============================] - 0s 49us/step - loss: 0.4441 - accuracy: 0.7916\n",
      "Epoch 3/30\n",
      "4482/4482 [==============================] - 0s 74us/step - loss: 0.4377 - accuracy: 0.7921\n",
      "Epoch 4/30\n",
      "4482/4482 [==============================] - 0s 64us/step - loss: 0.4358 - accuracy: 0.7972\n",
      "Epoch 5/30\n",
      "4482/4482 [==============================] - 0s 49us/step - loss: 0.4303 - accuracy: 0.7954\n",
      "Epoch 6/30\n",
      "4482/4482 [==============================] - 0s 45us/step - loss: 0.4247 - accuracy: 0.8012\n",
      "Epoch 7/30\n",
      "4482/4482 [==============================] - 0s 46us/step - loss: 0.4263 - accuracy: 0.8023\n",
      "Epoch 8/30\n",
      "4482/4482 [==============================] - 0s 49us/step - loss: 0.4215 - accuracy: 0.8077\n",
      "Epoch 9/30\n",
      "4482/4482 [==============================] - 0s 49us/step - loss: 0.4199 - accuracy: 0.8095\n",
      "Epoch 10/30\n",
      "4482/4482 [==============================] - 0s 45us/step - loss: 0.4230 - accuracy: 0.8057\n",
      "Epoch 11/30\n",
      "4482/4482 [==============================] - 0s 46us/step - loss: 0.4176 - accuracy: 0.8104\n",
      "Epoch 12/30\n",
      "4482/4482 [==============================] - 0s 43us/step - loss: 0.4167 - accuracy: 0.8104\n",
      "Epoch 13/30\n",
      "4482/4482 [==============================] - 0s 45us/step - loss: 0.4156 - accuracy: 0.8081\n",
      "Epoch 14/30\n",
      "4482/4482 [==============================] - 0s 43us/step - loss: 0.4130 - accuracy: 0.8115\n",
      "Epoch 15/30\n",
      "4482/4482 [==============================] - 0s 42us/step - loss: 0.4113 - accuracy: 0.8119\n",
      "Epoch 16/30\n",
      "4482/4482 [==============================] - 0s 44us/step - loss: 0.4148 - accuracy: 0.8088\n",
      "Epoch 17/30\n",
      "4482/4482 [==============================] - 0s 44us/step - loss: 0.4083 - accuracy: 0.8097\n",
      "Epoch 18/30\n",
      "4482/4482 [==============================] - 0s 46us/step - loss: 0.4114 - accuracy: 0.8095\n",
      "Epoch 19/30\n",
      "4482/4482 [==============================] - 0s 45us/step - loss: 0.4034 - accuracy: 0.8166\n",
      "Epoch 20/30\n",
      "4482/4482 [==============================] - 0s 47us/step - loss: 0.4023 - accuracy: 0.8175\n",
      "Epoch 21/30\n",
      "4482/4482 [==============================] - 0s 47us/step - loss: 0.4048 - accuracy: 0.8159\n",
      "Epoch 22/30\n",
      "4482/4482 [==============================] - ETA: 0s - loss: 0.4011 - accuracy: 0.81 - 0s 44us/step - loss: 0.4042 - accuracy: 0.8159\n",
      "Epoch 23/30\n",
      "4482/4482 [==============================] - 0s 43us/step - loss: 0.4030 - accuracy: 0.8124\n",
      "Epoch 24/30\n",
      "4482/4482 [==============================] - 0s 42us/step - loss: 0.3993 - accuracy: 0.8195\n",
      "Epoch 25/30\n",
      "4482/4482 [==============================] - 0s 41us/step - loss: 0.4034 - accuracy: 0.8124\n",
      "Epoch 26/30\n",
      "4482/4482 [==============================] - 0s 43us/step - loss: 0.3967 - accuracy: 0.8195\n",
      "Epoch 27/30\n",
      "4482/4482 [==============================] - 0s 42us/step - loss: 0.3996 - accuracy: 0.8217\n",
      "Epoch 28/30\n",
      "4482/4482 [==============================] - 0s 43us/step - loss: 0.3932 - accuracy: 0.8193\n",
      "Epoch 29/30\n",
      "4482/4482 [==============================] - 0s 43us/step - loss: 0.3940 - accuracy: 0.8220\n",
      "Epoch 30/30\n",
      "4482/4482 [==============================] - 0s 43us/step - loss: 0.3932 - accuracy: 0.8211\n"
     ]
    },
    {
     "data": {
      "text/plain": [
       "<keras.callbacks.callbacks.History at 0x7fb3a4ec99d0>"
      ]
     },
     "execution_count": 17,
     "metadata": {},
     "output_type": "execute_result"
    }
   ],
   "source": [
    "fit_nn = Sequential()\n",
    "fit_nn.add(Dense(X_train.shape[1], input_dim = X_train.shape[1], activation='relu'))\n",
    "fit_nn.add(Dropout(0.2))\n",
    "fit_nn.add(Dense(X_train.shape[1], activation='relu'))\n",
    "fit_nn.add(Dropout(0.2))\n",
    "fit_nn.add(Dense(20, activation='relu'))\n",
    "fit_nn.add(Dropout(0.2))\n",
    "fit_nn.add(Dense(1, activation='sigmoid'))\n",
    "\n",
    "fit_nn.compile(optimizer ='adam',\n",
    "              loss='binary_crossentropy',\n",
    "              metrics=['accuracy'])\n",
    "fit_nn.fit(x=X_train, y=y_train, epochs=30)"
   ]
  },
  {
   "cell_type": "code",
   "execution_count": 15,
   "metadata": {
    "scrolled": false
   },
   "outputs": [
    {
     "name": "stdout",
     "output_type": "stream",
     "text": [
      "[[989 109]\n",
      " [184 213]]\n",
      "              precision    recall  f1-score   support\n",
      "\n",
      "           0       0.84      0.90      0.87      1098\n",
      "           1       0.66      0.54      0.59       397\n",
      "\n",
      "    accuracy                           0.80      1495\n",
      "   macro avg       0.75      0.72      0.73      1495\n",
      "weighted avg       0.79      0.80      0.80      1495\n",
      "\n"
     ]
    }
   ],
   "source": [
    "y_pred = fit_nn.predict_classes(X_validate)\n",
    "print(confusion_matrix(y_validate, y_pred))\n",
    "print(classification_report(y_validate, y_pred))"
   ]
  },
  {
   "cell_type": "markdown",
   "metadata": {},
   "source": [
    "### Additional algorithms and tuning of hyperparameters\n",
    "Additional algorithms will be used on the scaled dataset seeking to evaluate model performance. Hyperparameters will be tuned as well."
   ]
  },
  {
   "cell_type": "markdown",
   "metadata": {},
   "source": [
    "#### k-nearest neighbors"
   ]
  },
  {
   "cell_type": "code",
   "execution_count": 16,
   "metadata": {},
   "outputs": [
    {
     "name": "stdout",
     "output_type": "stream",
     "text": [
      "[[939 159]\n",
      " [151 246]]\n",
      "              precision    recall  f1-score   support\n",
      "\n",
      "           0       0.86      0.86      0.86      1098\n",
      "           1       0.61      0.62      0.61       397\n",
      "\n",
      "    accuracy                           0.79      1495\n",
      "   macro avg       0.73      0.74      0.74      1495\n",
      "weighted avg       0.79      0.79      0.79      1495\n",
      "\n"
     ]
    }
   ],
   "source": [
    "fit_knn = KNeighborsClassifier(n_neighbors = 55)\n",
    "\n",
    "parameters = {'n_neighbors': [43,47,51,55,59]}\n",
    "\n",
    "grid_knn = GridSearchCV(fit_knn, param_grid=parameters, scoring = 'f1_weighted', cv=5)\n",
    "\n",
    "grid_knn.fit(X_train, y_train)\n",
    "grid_knn.best_params_\n",
    "# {'n_neighbors': 55}\n",
    "\n",
    "y_pred = grid_knn.predict(X_validate)\n",
    "\n",
    "print(confusion_matrix(y_validate, y_pred))\n",
    "print(classification_report(y_validate, y_pred))"
   ]
  },
  {
   "cell_type": "markdown",
   "metadata": {},
   "source": [
    "#### Support Vector Machines"
   ]
  },
  {
   "cell_type": "code",
   "execution_count": 17,
   "metadata": {},
   "outputs": [
    {
     "name": "stdout",
     "output_type": "stream",
     "text": [
      "[[1015   83]\n",
      " [ 196  201]]\n",
      "              precision    recall  f1-score   support\n",
      "\n",
      "           0       0.84      0.92      0.88      1098\n",
      "           1       0.71      0.51      0.59       397\n",
      "\n",
      "    accuracy                           0.81      1495\n",
      "   macro avg       0.77      0.72      0.73      1495\n",
      "weighted avg       0.80      0.81      0.80      1495\n",
      "\n"
     ]
    }
   ],
   "source": [
    "fit_svm = SVC(C = 100, gamma=0.01, kernel='poly')\n",
    "\n",
    "#parameters = {'C':[0.001, 0.1, 100, 10e5], 'gamma': [10,1,0.1,0.01]}\n",
    "\n",
    "#grid = GridSearchCV(fit_svm, param_grid=parameters, scoring = 'recall', cv=5) # caution: it takes a hours to run this grid search\n",
    "\n",
    "#grid.fit(X_train, y_train)\n",
    "#grid.best_params_\n",
    "# {'C': 100, 'gamma': 0.01}\n",
    "\n",
    "fit_svm.fit(X_train, y_train)\n",
    "y_pred = fit_svm.predict(X_validate)\n",
    "\n",
    "print(confusion_matrix(y_validate, y_pred))\n",
    "print(classification_report(y_validate, y_pred))"
   ]
  },
  {
   "cell_type": "markdown",
   "metadata": {},
   "source": [
    "#### Gradient Boosting"
   ]
  },
  {
   "cell_type": "markdown",
   "metadata": {},
   "source": [
    "The code that follows is based on the the blog \"Complete Machine Learning Guide to Parameter Tuning in Gradient Boosting (GBM) in Python\"\n",
    "\n",
    "https://www.analyticsvidhya.com/blog/2016/02/complete-guide-parameter-tuning-gradient-boosting-gbm-python/"
   ]
  },
  {
   "cell_type": "markdown",
   "metadata": {},
   "source": [
    "**Tuning of the n_estimators parameter**"
   ]
  },
  {
   "cell_type": "code",
   "execution_count": 19,
   "metadata": {},
   "outputs": [
    {
     "name": "stderr",
     "output_type": "stream",
     "text": [
      "/home/jackson/anaconda3/lib/python3.7/site-packages/sklearn/model_selection/_search.py:823: FutureWarning: The parameter 'iid' is deprecated in 0.22 and will be removed in 0.24.\n",
      "  \"removed in 0.24.\", FutureWarning\n"
     ]
    },
    {
     "data": {
      "text/plain": [
       "({'n_estimators': 80}, 0.5318272915860904)"
      ]
     },
     "execution_count": 19,
     "metadata": {},
     "output_type": "execute_result"
    }
   ],
   "source": [
    "param_test1 = {'n_estimators':range(20,81,10)}\n",
    "gsearch1 = GridSearchCV(estimator = GradientBoostingClassifier(learning_rate=0.1, min_samples_split=500,min_samples_leaf=50,max_depth=8,max_features='sqrt',subsample=0.8,random_state=10), \n",
    "param_grid = param_test1, scoring = 'recall',n_jobs=4,iid=False, cv=5)\n",
    "gsearch1.fit(X_train, y_train)\n",
    "gsearch1.best_params_, gsearch1.best_score_"
   ]
  },
  {
   "cell_type": "markdown",
   "metadata": {},
   "source": [
    "**Tuning of the max_depth parameter**"
   ]
  },
  {
   "cell_type": "code",
   "execution_count": 20,
   "metadata": {},
   "outputs": [
    {
     "name": "stderr",
     "output_type": "stream",
     "text": [
      "/home/jackson/anaconda3/lib/python3.7/site-packages/sklearn/model_selection/_search.py:823: FutureWarning: The parameter 'iid' is deprecated in 0.22 and will be removed in 0.24.\n",
      "  \"removed in 0.24.\", FutureWarning\n"
     ]
    },
    {
     "data": {
      "text/plain": [
       "({'max_depth': 7, 'min_samples_split': 1000}, 0.5511233782215814)"
      ]
     },
     "execution_count": 20,
     "metadata": {},
     "output_type": "execute_result"
    }
   ],
   "source": [
    "param_test2 = {'max_depth':range(5,16,2), 'min_samples_split':range(200,1001,200)}\n",
    "gsearch2 = GridSearchCV(estimator = GradientBoostingClassifier(learning_rate=0.1, n_estimators=80, max_features='sqrt', subsample=0.8, random_state=10), \n",
    "param_grid = param_test2, scoring = 'recall', n_jobs=4,iid=False, cv=5)\n",
    "gsearch2.fit(X_train, y_train)\n",
    "gsearch2.best_params_, gsearch2.best_score_"
   ]
  },
  {
   "cell_type": "markdown",
   "metadata": {},
   "source": [
    "**Tuning of the min_samples_leaf and min_samples_split parameters**"
   ]
  },
  {
   "cell_type": "code",
   "execution_count": 21,
   "metadata": {},
   "outputs": [
    {
     "name": "stderr",
     "output_type": "stream",
     "text": [
      "/home/jackson/anaconda3/lib/python3.7/site-packages/sklearn/model_selection/_search.py:823: FutureWarning: The parameter 'iid' is deprecated in 0.22 and will be removed in 0.24.\n",
      "  \"removed in 0.24.\", FutureWarning\n"
     ]
    },
    {
     "data": {
      "text/plain": [
       "({'min_samples_leaf': 50, 'min_samples_split': 200}, 0.5410709890650821)"
      ]
     },
     "execution_count": 21,
     "metadata": {},
     "output_type": "execute_result"
    }
   ],
   "source": [
    "param_test3 = {'min_samples_split':range(100,300,10), 'min_samples_leaf':range(30,71,10)}\n",
    "gsearch3 = GridSearchCV(estimator = GradientBoostingClassifier(learning_rate=0.1, n_estimators=80,max_depth=7,max_features='sqrt', subsample=0.8, random_state=10), \n",
    "param_grid = param_test3, scoring = 'recall', n_jobs=4,iid=False, cv=5)\n",
    "gsearch3.fit(X_train, y_train)\n",
    "gsearch3.best_params_, gsearch3.best_score_"
   ]
  },
  {
   "cell_type": "code",
   "execution_count": 22,
   "metadata": {},
   "outputs": [
    {
     "name": "stdout",
     "output_type": "stream",
     "text": [
      "[[986 112]\n",
      " [168 229]]\n",
      "              precision    recall  f1-score   support\n",
      "\n",
      "           0       0.85      0.90      0.88      1098\n",
      "           1       0.67      0.58      0.62       397\n",
      "\n",
      "    accuracy                           0.81      1495\n",
      "   macro avg       0.76      0.74      0.75      1495\n",
      "weighted avg       0.81      0.81      0.81      1495\n",
      "\n"
     ]
    }
   ],
   "source": [
    "y_pred = gsearch3.predict(X_validate)\n",
    "\n",
    "print(confusion_matrix(y_validate, y_pred))\n",
    "print(classification_report(y_validate, y_pred))"
   ]
  },
  {
   "cell_type": "markdown",
   "metadata": {},
   "source": [
    "## Model evaluation on the validation dataset"
   ]
  },
  {
   "cell_type": "markdown",
   "metadata": {},
   "source": [
    "The table below summarizes the models that were created and their respective performances on the validation dataset:\n",
    "\n",
    "| Algorithm | Scaled numerical features | Recall Churn = 1 | f1-score Churn = 1 | weighted f1-score |\n",
    "|------------------------|------|------|------|------|\n",
    "| Logistic regression    | No   | 0.55 | 0.57 | 0.77 |\n",
    "| Neural network         | No   | 0.37 | 0.49 | 0.77 |       \n",
    "| Logistic regression    | Yes  | 0.81 | 0.62 | 0.75 |       \n",
    "| Neural network         | Yes  | 0.54 | 0.59 | 0.80 | \n",
    "| Deep Neural network    | Yes  | 0.54 | 0.59 | 0.80 |\n",
    "| k-nearest neighbors    | Yes  | 0.62 | 0.61 | 0.79 |\n",
    "| Support vector machine | Yes  | 0.51 | 0.59 | 0.80 |\n",
    "| Gradient boosting      | Yes  | 0.58 | 0.62 | 0.81 |"
   ]
  },
  {
   "cell_type": "markdown",
   "metadata": {},
   "source": [
    "**Logistic regression** will be retained as the algorithm to create the model in the training step because it showed the best performance, it's simpler and easier to interpret. "
   ]
  }
 ],
 "metadata": {
  "kernelspec": {
   "display_name": "Python 3",
   "language": "python",
   "name": "python3"
  },
  "language_info": {
   "codemirror_mode": {
    "name": "ipython",
    "version": 3
   },
   "file_extension": ".py",
   "mimetype": "text/x-python",
   "name": "python",
   "nbconvert_exporter": "python",
   "pygments_lexer": "ipython3",
   "version": "3.7.6"
  }
 },
 "nbformat": 4,
 "nbformat_minor": 4
}
